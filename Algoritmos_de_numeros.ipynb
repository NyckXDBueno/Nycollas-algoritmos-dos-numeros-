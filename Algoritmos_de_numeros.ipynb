{
  "nbformat": 4,
  "nbformat_minor": 0,
  "metadata": {
    "colab": {
      "provenance": []
    },
    "kernelspec": {
      "name": "python3",
      "display_name": "Python 3"
    },
    "language_info": {
      "name": "python"
    }
  },
  "cells": [
    {
      "cell_type": "code",
      "execution_count": 1,
      "metadata": {
        "id": "2XA85oIp10uN",
        "colab": {
          "base_uri": "https://localhost:8080/"
        },
        "outputId": "17822c91-2878-46fb-9a65-0124e657ef19"
      },
      "outputs": [
        {
          "output_type": "stream",
          "name": "stdout",
          "text": [
            "2\n",
            "4\n",
            "6\n",
            "8\n",
            "10\n"
          ]
        }
      ],
      "source": [
        "for i in range(1, 11):\n",
        "  if i % 2 == 0:\n",
        "    print(i)\n"
      ]
    },
    {
      "cell_type": "code",
      "source": [
        "for i in range(1, 11):\n",
        "  numero = int(input(\"Digite um número: \"))\n",
        "  metade = numero / 2\n",
        "  print(f\"A metade de {numero} é {metade}\")\n"
      ],
      "metadata": {
        "id": "j2lQMNag3iDC"
      },
      "execution_count": null,
      "outputs": []
    },
    {
      "cell_type": "code",
      "source": [
        "for i in range(1, 16):\n",
        "  numero = int(input(\"Digite um número: \"))\n",
        "  raiz = numero ** 0.5\n",
        "  print(f\"A raiz quadrada de {numero} é {raiz}\")\n"
      ],
      "metadata": {
        "id": "pKlx7Pfw4MbC"
      },
      "execution_count": null,
      "outputs": []
    },
    {
      "cell_type": "code",
      "source": [
        "for i in range(1, 501):\n",
        "    if i % 5 == 0:\n",
        "        print(i)\n"
      ],
      "metadata": {
        "id": "kW-Rt9IQ4SYK"
      },
      "execution_count": null,
      "outputs": []
    },
    {
      "cell_type": "code",
      "source": [
        "numero = int(input(\"Digite um número: \"))\n",
        "produto = 1\n",
        "\n",
        "for i in range(1, numero + 1):\n",
        "    print(i)\n",
        "    produto *= i\n",
        "\n",
        "print(f\"O produto de todos os números de 1 até {numero} é {produto}\")\n"
      ],
      "metadata": {
        "id": "4K7fBx1E4iGi"
      },
      "execution_count": null,
      "outputs": []
    },
    {
      "cell_type": "code",
      "source": [
        "i = 1\n",
        "while i <= 10:\n",
        "  if i % 2 == 0:\n",
        "    print(i)\n",
        "  i += 1\n",
        "\n",
        "\n"
      ],
      "metadata": {
        "colab": {
          "base_uri": "https://localhost:8080/"
        },
        "id": "K5M3Y-fr5Suq",
        "outputId": "a0aafe1c-ac81-4ee3-fe45-f2876a33d617"
      },
      "execution_count": null,
      "outputs": [
        {
          "output_type": "stream",
          "name": "stdout",
          "text": [
            "2\n",
            "4\n",
            "6\n",
            "8\n",
            "10\n"
          ]
        }
      ]
    },
    {
      "cell_type": "code",
      "source": [
        "numero = 1\n",
        "while numero <= 10:\n",
        "  numero_digitado = int(input(\"Digite um número: \"))\n",
        "  metade = numero_digitado / 2\n",
        "  print(f\"A metade de {numero_digitado} é {metade}\")\n",
        "  numero += 1"
      ],
      "metadata": {
        "id": "BQcD1SGl5jAB"
      },
      "execution_count": null,
      "outputs": []
    },
    {
      "cell_type": "code",
      "source": [
        "numero = 1\n",
        "while numero <= 15:\n",
        "  numero_digitado = int(input(\"Digite um número: \"))\n",
        "  raiz = numero_digitado ** 0.5\n",
        "  print(f\"A raiz quadrada de {numero_digitado} é {raiz}\")\n",
        "  numero += 1"
      ],
      "metadata": {
        "id": "_gbYpT6F5mcx"
      },
      "execution_count": null,
      "outputs": []
    },
    {
      "cell_type": "code",
      "source": [
        "i = 1\n",
        "while i <= 500:\n",
        "  if i % 5 == 0:\n",
        "    print(i)\n",
        "  i += 1"
      ],
      "metadata": {
        "id": "iEN8bkbq5pDr"
      },
      "execution_count": null,
      "outputs": []
    },
    {
      "cell_type": "code",
      "source": [
        "numero = int(input(\"Digite um número: \"))\n",
        "produto = 1\n",
        "i = 1\n",
        "while i <= numero:\n",
        "  print(i)\n",
        "  produto *= i\n",
        "  i += 1\n",
        "  print(f\"O produto de todos os números de 1 até {numero} é {produto}\")"
      ],
      "metadata": {
        "id": "u6g7NPQY5vEi"
      },
      "execution_count": null,
      "outputs": []
    }
  ]
}